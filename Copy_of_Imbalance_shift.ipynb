{
  "nbformat": 4,
  "nbformat_minor": 0,
  "metadata": {
    "colab": {
      "name": "Copy of Imbalance_shift.ipynb",
      "provenance": [],
      "collapsed_sections": [
        "IriQXH7FKDIz",
        "VQ3dWijt7YBS",
        "boE9z70tFkLY",
        "UX9lX6PTMuFf"
      ],
      "include_colab_link": true
    },
    "kernelspec": {
      "name": "python3",
      "display_name": "Python 3"
    }
  },
  "cells": [
    {
      "cell_type": "markdown",
      "metadata": {
        "id": "view-in-github",
        "colab_type": "text"
      },
      "source": [
        "<a href=\"https://colab.research.google.com/github/Shaman1266/degin/blob/master/Copy_of_Imbalance_shift.ipynb\" target=\"_parent\"><img src=\"https://colab.research.google.com/assets/colab-badge.svg\" alt=\"Open In Colab\"/></a>"
      ]
    },
    {
      "cell_type": "markdown",
      "metadata": {
        "id": "IriQXH7FKDIz",
        "colab_type": "text"
      },
      "source": [
        "## Скачиваем датасет, подключаем библиотеки"
      ]
    },
    {
      "cell_type": "code",
      "metadata": {
        "id": "dDvvca2NKE5p",
        "colab_type": "code",
        "colab": {}
      },
      "source": [
        "!mkdir /root/.kaggle\n",
        "!echo '{\"username\":\"\",\"key\":\"\"}' > /root/.kaggle/kaggle.json"
      ],
      "execution_count": 0,
      "outputs": []
    },
    {
      "cell_type": "code",
      "metadata": {
        "id": "uVHhmDSEIUyz",
        "colab_type": "code",
        "outputId": "3ed74e48-f96b-4f93-c72e-9387c084eff4",
        "colab": {
          "base_uri": "https://localhost:8080/",
          "height": 90
        }
      },
      "source": [
        "!kaggle datasets download -d mlg-ulb/creditcardfraud"
      ],
      "execution_count": 0,
      "outputs": [
        {
          "output_type": "stream",
          "text": [
            "Warning: Your Kaggle API key is readable by other users on this system! To fix this, you can run 'chmod 600 /root/.kaggle/kaggle.json'\n",
            "Downloading creditcardfraud.zip to /content\n",
            " 86% 57.0M/66.0M [00:00<00:00, 49.7MB/s]\n",
            "100% 66.0M/66.0M [00:00<00:00, 84.8MB/s]\n"
          ],
          "name": "stdout"
        }
      ]
    },
    {
      "cell_type": "code",
      "metadata": {
        "id": "hcGkGptDLNUL",
        "colab_type": "code",
        "colab": {}
      },
      "source": [
        "!unzip -qq /content/creditcardfraud.zip"
      ],
      "execution_count": 0,
      "outputs": []
    },
    {
      "cell_type": "code",
      "metadata": {
        "id": "iZvSwiN_Ln2E",
        "colab_type": "code",
        "colab": {}
      },
      "source": [
        "import pandas as pd\n",
        "import seaborn as sns\n",
        "import numpy as np\n",
        "\n",
        "from sklearn import metrics, ensemble, tree\n",
        "from sklearn.model_selection import train_test_split\n",
        "from sklearn.linear_model import LogisticRegression\n",
        "from sklearn.neighbors import KNeighborsClassifier\n",
        "from sklearn import preprocessing\n",
        "\n",
        "\n",
        "import matplotlib.pyplot as plt\n",
        "import itertools"
      ],
      "execution_count": 0,
      "outputs": []
    },
    {
      "cell_type": "markdown",
      "metadata": {
        "id": "VQ3dWijt7YBS",
        "colab_type": "text"
      },
      "source": [
        "## Посмотрим на данные"
      ]
    },
    {
      "cell_type": "markdown",
      "metadata": {
        "id": "BYBx_Q_O7-3t",
        "colab_type": "text"
      },
      "source": [
        "Данный датасет о транзакциях с кредитных карт. Основня цель - найти мошенические операции. *Чистые* данные только о времени и сумме, остальные трансформированы с помощью PCA."
      ]
    },
    {
      "cell_type": "code",
      "metadata": {
        "id": "yzg9tpjrLT9a",
        "colab_type": "code",
        "outputId": "d500c8bd-13b4-4fda-d67a-600917ed181f",
        "colab": {
          "base_uri": "https://localhost:8080/",
          "height": 218
        }
      },
      "source": [
        "data = pd.read_csv('/content/creditcard.csv')\n",
        "data.head()"
      ],
      "execution_count": 0,
      "outputs": [
        {
          "output_type": "execute_result",
          "data": {
            "text/html": [
              "<div>\n",
              "<style scoped>\n",
              "    .dataframe tbody tr th:only-of-type {\n",
              "        vertical-align: middle;\n",
              "    }\n",
              "\n",
              "    .dataframe tbody tr th {\n",
              "        vertical-align: top;\n",
              "    }\n",
              "\n",
              "    .dataframe thead th {\n",
              "        text-align: right;\n",
              "    }\n",
              "</style>\n",
              "<table border=\"1\" class=\"dataframe\">\n",
              "  <thead>\n",
              "    <tr style=\"text-align: right;\">\n",
              "      <th></th>\n",
              "      <th>Time</th>\n",
              "      <th>V1</th>\n",
              "      <th>V2</th>\n",
              "      <th>V3</th>\n",
              "      <th>V4</th>\n",
              "      <th>V5</th>\n",
              "      <th>V6</th>\n",
              "      <th>V7</th>\n",
              "      <th>V8</th>\n",
              "      <th>V9</th>\n",
              "      <th>V10</th>\n",
              "      <th>V11</th>\n",
              "      <th>V12</th>\n",
              "      <th>V13</th>\n",
              "      <th>V14</th>\n",
              "      <th>V15</th>\n",
              "      <th>V16</th>\n",
              "      <th>V17</th>\n",
              "      <th>V18</th>\n",
              "      <th>V19</th>\n",
              "      <th>V20</th>\n",
              "      <th>V21</th>\n",
              "      <th>V22</th>\n",
              "      <th>V23</th>\n",
              "      <th>V24</th>\n",
              "      <th>V25</th>\n",
              "      <th>V26</th>\n",
              "      <th>V27</th>\n",
              "      <th>V28</th>\n",
              "      <th>Amount</th>\n",
              "      <th>Class</th>\n",
              "    </tr>\n",
              "  </thead>\n",
              "  <tbody>\n",
              "    <tr>\n",
              "      <th>0</th>\n",
              "      <td>0.0</td>\n",
              "      <td>-1.359807</td>\n",
              "      <td>-0.072781</td>\n",
              "      <td>2.536347</td>\n",
              "      <td>1.378155</td>\n",
              "      <td>-0.338321</td>\n",
              "      <td>0.462388</td>\n",
              "      <td>0.239599</td>\n",
              "      <td>0.098698</td>\n",
              "      <td>0.363787</td>\n",
              "      <td>0.090794</td>\n",
              "      <td>-0.551600</td>\n",
              "      <td>-0.617801</td>\n",
              "      <td>-0.991390</td>\n",
              "      <td>-0.311169</td>\n",
              "      <td>1.468177</td>\n",
              "      <td>-0.470401</td>\n",
              "      <td>0.207971</td>\n",
              "      <td>0.025791</td>\n",
              "      <td>0.403993</td>\n",
              "      <td>0.251412</td>\n",
              "      <td>-0.018307</td>\n",
              "      <td>0.277838</td>\n",
              "      <td>-0.110474</td>\n",
              "      <td>0.066928</td>\n",
              "      <td>0.128539</td>\n",
              "      <td>-0.189115</td>\n",
              "      <td>0.133558</td>\n",
              "      <td>-0.021053</td>\n",
              "      <td>149.62</td>\n",
              "      <td>0</td>\n",
              "    </tr>\n",
              "    <tr>\n",
              "      <th>1</th>\n",
              "      <td>0.0</td>\n",
              "      <td>1.191857</td>\n",
              "      <td>0.266151</td>\n",
              "      <td>0.166480</td>\n",
              "      <td>0.448154</td>\n",
              "      <td>0.060018</td>\n",
              "      <td>-0.082361</td>\n",
              "      <td>-0.078803</td>\n",
              "      <td>0.085102</td>\n",
              "      <td>-0.255425</td>\n",
              "      <td>-0.166974</td>\n",
              "      <td>1.612727</td>\n",
              "      <td>1.065235</td>\n",
              "      <td>0.489095</td>\n",
              "      <td>-0.143772</td>\n",
              "      <td>0.635558</td>\n",
              "      <td>0.463917</td>\n",
              "      <td>-0.114805</td>\n",
              "      <td>-0.183361</td>\n",
              "      <td>-0.145783</td>\n",
              "      <td>-0.069083</td>\n",
              "      <td>-0.225775</td>\n",
              "      <td>-0.638672</td>\n",
              "      <td>0.101288</td>\n",
              "      <td>-0.339846</td>\n",
              "      <td>0.167170</td>\n",
              "      <td>0.125895</td>\n",
              "      <td>-0.008983</td>\n",
              "      <td>0.014724</td>\n",
              "      <td>2.69</td>\n",
              "      <td>0</td>\n",
              "    </tr>\n",
              "    <tr>\n",
              "      <th>2</th>\n",
              "      <td>1.0</td>\n",
              "      <td>-1.358354</td>\n",
              "      <td>-1.340163</td>\n",
              "      <td>1.773209</td>\n",
              "      <td>0.379780</td>\n",
              "      <td>-0.503198</td>\n",
              "      <td>1.800499</td>\n",
              "      <td>0.791461</td>\n",
              "      <td>0.247676</td>\n",
              "      <td>-1.514654</td>\n",
              "      <td>0.207643</td>\n",
              "      <td>0.624501</td>\n",
              "      <td>0.066084</td>\n",
              "      <td>0.717293</td>\n",
              "      <td>-0.165946</td>\n",
              "      <td>2.345865</td>\n",
              "      <td>-2.890083</td>\n",
              "      <td>1.109969</td>\n",
              "      <td>-0.121359</td>\n",
              "      <td>-2.261857</td>\n",
              "      <td>0.524980</td>\n",
              "      <td>0.247998</td>\n",
              "      <td>0.771679</td>\n",
              "      <td>0.909412</td>\n",
              "      <td>-0.689281</td>\n",
              "      <td>-0.327642</td>\n",
              "      <td>-0.139097</td>\n",
              "      <td>-0.055353</td>\n",
              "      <td>-0.059752</td>\n",
              "      <td>378.66</td>\n",
              "      <td>0</td>\n",
              "    </tr>\n",
              "    <tr>\n",
              "      <th>3</th>\n",
              "      <td>1.0</td>\n",
              "      <td>-0.966272</td>\n",
              "      <td>-0.185226</td>\n",
              "      <td>1.792993</td>\n",
              "      <td>-0.863291</td>\n",
              "      <td>-0.010309</td>\n",
              "      <td>1.247203</td>\n",
              "      <td>0.237609</td>\n",
              "      <td>0.377436</td>\n",
              "      <td>-1.387024</td>\n",
              "      <td>-0.054952</td>\n",
              "      <td>-0.226487</td>\n",
              "      <td>0.178228</td>\n",
              "      <td>0.507757</td>\n",
              "      <td>-0.287924</td>\n",
              "      <td>-0.631418</td>\n",
              "      <td>-1.059647</td>\n",
              "      <td>-0.684093</td>\n",
              "      <td>1.965775</td>\n",
              "      <td>-1.232622</td>\n",
              "      <td>-0.208038</td>\n",
              "      <td>-0.108300</td>\n",
              "      <td>0.005274</td>\n",
              "      <td>-0.190321</td>\n",
              "      <td>-1.175575</td>\n",
              "      <td>0.647376</td>\n",
              "      <td>-0.221929</td>\n",
              "      <td>0.062723</td>\n",
              "      <td>0.061458</td>\n",
              "      <td>123.50</td>\n",
              "      <td>0</td>\n",
              "    </tr>\n",
              "    <tr>\n",
              "      <th>4</th>\n",
              "      <td>2.0</td>\n",
              "      <td>-1.158233</td>\n",
              "      <td>0.877737</td>\n",
              "      <td>1.548718</td>\n",
              "      <td>0.403034</td>\n",
              "      <td>-0.407193</td>\n",
              "      <td>0.095921</td>\n",
              "      <td>0.592941</td>\n",
              "      <td>-0.270533</td>\n",
              "      <td>0.817739</td>\n",
              "      <td>0.753074</td>\n",
              "      <td>-0.822843</td>\n",
              "      <td>0.538196</td>\n",
              "      <td>1.345852</td>\n",
              "      <td>-1.119670</td>\n",
              "      <td>0.175121</td>\n",
              "      <td>-0.451449</td>\n",
              "      <td>-0.237033</td>\n",
              "      <td>-0.038195</td>\n",
              "      <td>0.803487</td>\n",
              "      <td>0.408542</td>\n",
              "      <td>-0.009431</td>\n",
              "      <td>0.798278</td>\n",
              "      <td>-0.137458</td>\n",
              "      <td>0.141267</td>\n",
              "      <td>-0.206010</td>\n",
              "      <td>0.502292</td>\n",
              "      <td>0.219422</td>\n",
              "      <td>0.215153</td>\n",
              "      <td>69.99</td>\n",
              "      <td>0</td>\n",
              "    </tr>\n",
              "  </tbody>\n",
              "</table>\n",
              "</div>"
            ],
            "text/plain": [
              "   Time        V1        V2        V3  ...       V27       V28  Amount  Class\n",
              "0   0.0 -1.359807 -0.072781  2.536347  ...  0.133558 -0.021053  149.62      0\n",
              "1   0.0  1.191857  0.266151  0.166480  ... -0.008983  0.014724    2.69      0\n",
              "2   1.0 -1.358354 -1.340163  1.773209  ... -0.055353 -0.059752  378.66      0\n",
              "3   1.0 -0.966272 -0.185226  1.792993  ...  0.062723  0.061458  123.50      0\n",
              "4   2.0 -1.158233  0.877737  1.548718  ...  0.219422  0.215153   69.99      0\n",
              "\n",
              "[5 rows x 31 columns]"
            ]
          },
          "metadata": {
            "tags": []
          },
          "execution_count": 30
        }
      ]
    },
    {
      "cell_type": "code",
      "metadata": {
        "id": "2US033GwMF5K",
        "colab_type": "code",
        "outputId": "eb86f2d9-148e-4b26-f3bb-bd5a8ae1f466",
        "colab": {
          "base_uri": "https://localhost:8080/",
          "height": 35
        }
      },
      "source": [
        "all(data.isnull().any())"
      ],
      "execution_count": 0,
      "outputs": [
        {
          "output_type": "execute_result",
          "data": {
            "text/plain": [
              "False"
            ]
          },
          "metadata": {
            "tags": []
          },
          "execution_count": 11
        }
      ]
    },
    {
      "cell_type": "markdown",
      "metadata": {
        "id": "7Npbvy3_8mRo",
        "colab_type": "text"
      },
      "source": [
        "Как можно увидеть данные очень несбалансированы. Данная проблема очень чувствительна в методах машинного обучения. Посылая такую выборку в обучения, метод смещается в сторону большего класса и мы получаем на нем более хорошую точность предсказания,в ущерб меньшего."
      ]
    },
    {
      "cell_type": "code",
      "metadata": {
        "id": "JqrjzUKkMSyK",
        "colab_type": "code",
        "outputId": "6079af23-3b98-4c05-9b2e-c7cc07034af0",
        "colab": {
          "base_uri": "https://localhost:8080/",
          "height": 297
        }
      },
      "source": [
        "sns.countplot('Class', data=data)"
      ],
      "execution_count": 0,
      "outputs": [
        {
          "output_type": "execute_result",
          "data": {
            "text/plain": [
              "<matplotlib.axes._subplots.AxesSubplot at 0x7fee83b3c390>"
            ]
          },
          "metadata": {
            "tags": []
          },
          "execution_count": 6
        },
        {
          "output_type": "display_data",
          "data": {
            "image/png": "[encoded data removed]",
            "text/plain": [
              "<Figure size 432x288 with 1 Axes>"
            ]
          },
          "metadata": {
            "tags": []
          }
        }
      ]
    },
    {
      "cell_type": "code",
      "metadata": {
        "id": "6_F7n1h0Nej6",
        "colab_type": "code",
        "outputId": "7fbc0c6b-c101-463f-fb48-ae97d7d9a1b1",
        "colab": {
          "base_uri": "https://localhost:8080/",
          "height": 72
        }
      },
      "source": [
        "print('Нормальных транзакций:',len(data[data['Class']==0]))\n",
        "print('Мошеннических транзакций:',len(data[data['Class']==1]))\n",
        "print('Малый класс:',len(data[data['Class']==1])/len(data)*100,'%')"
      ],
      "execution_count": 0,
      "outputs": [
        {
          "output_type": "stream",
          "text": [
            "Нормальных транзакций: 284315\n",
            "Мошеннических транзакций: 492\n",
            "Малый класс: 0.1727485630620034 %\n"
          ],
          "name": "stdout"
        }
      ]
    },
    {
      "cell_type": "code",
      "metadata": {
        "id": "xrxPMVZZD8FE",
        "colab_type": "code",
        "colab": {}
      },
      "source": [
        "y = data['Class']"
      ],
      "execution_count": 0,
      "outputs": []
    },
    {
      "cell_type": "code",
      "metadata": {
        "id": "SNENGLwuDQ6L",
        "colab_type": "code",
        "colab": {}
      },
      "source": [
        "# нормализуем данные.Время и сумма у нас в таблице как есть\n",
        "data['Normalized Amount'] = preprocessing.StandardScaler().fit_transform(np.array(data['Amount']).reshape(-1, 1))\n",
        "data['Normalized Time'] = preprocessing.StandardScaler().fit_transform(np.array(data['Time']).reshape(-1, 1))\n",
        "data.drop(['Amount','Time','Class'],axis=1,inplace=True)"
      ],
      "execution_count": 0,
      "outputs": []
    },
    {
      "cell_type": "code",
      "metadata": {
        "id": "WV8nTYcoRti6",
        "colab_type": "code",
        "colab": {}
      },
      "source": [
        "X = data"
      ],
      "execution_count": 0,
      "outputs": []
    },
    {
      "cell_type": "code",
      "metadata": {
        "id": "bwWeK_8mz_yc",
        "colab_type": "code",
        "outputId": "030ccc75-3de3-40cd-d485-e9c6cbb92738",
        "colab": {
          "base_uri": "https://localhost:8080/",
          "height": 445
        }
      },
      "source": [
        "X"
      ],
      "execution_count": 0,
      "outputs": [
        {
          "output_type": "execute_result",
          "data": {
            "text/html": [
              "<div>\n",
              "<style scoped>\n",
              "    .dataframe tbody tr th:only-of-type {\n",
              "        vertical-align: middle;\n",
              "    }\n",
              "\n",
              "    .dataframe tbody tr th {\n",
              "        vertical-align: top;\n",
              "    }\n",
              "\n",
              "    .dataframe thead th {\n",
              "        text-align: right;\n",
              "    }\n",
              "</style>\n",
              "<table border=\"1\" class=\"dataframe\">\n",
              "  <thead>\n",
              "    <tr style=\"text-align: right;\">\n",
              "      <th></th>\n",
              "      <th>V1</th>\n",
              "      <th>V2</th>\n",
              "      <th>V3</th>\n",
              "      <th>V4</th>\n",
              "      <th>V5</th>\n",
              "      <th>V6</th>\n",
              "      <th>V7</th>\n",
              "      <th>V8</th>\n",
              "      <th>V9</th>\n",
              "      <th>V10</th>\n",
              "      <th>V11</th>\n",
              "      <th>V12</th>\n",
              "      <th>V13</th>\n",
              "      <th>V14</th>\n",
              "      <th>V15</th>\n",
              "      <th>V16</th>\n",
              "      <th>V17</th>\n",
              "      <th>V18</th>\n",
              "      <th>V19</th>\n",
              "      <th>V20</th>\n",
              "      <th>V21</th>\n",
              "      <th>V22</th>\n",
              "      <th>V23</th>\n",
              "      <th>V24</th>\n",
              "      <th>V25</th>\n",
              "      <th>V26</th>\n",
              "      <th>V27</th>\n",
              "      <th>V28</th>\n",
              "      <th>Normalized Amount</th>\n",
              "      <th>Normalized Time</th>\n",
              "    </tr>\n",
              "  </thead>\n",
              "  <tbody>\n",
              "    <tr>\n",
              "      <th>0</th>\n",
              "      <td>-1.359807</td>\n",
              "      <td>-0.072781</td>\n",
              "      <td>2.536347</td>\n",
              "      <td>1.378155</td>\n",
              "      <td>-0.338321</td>\n",
              "      <td>0.462388</td>\n",
              "      <td>0.239599</td>\n",
              "      <td>0.098698</td>\n",
              "      <td>0.363787</td>\n",
              "      <td>0.090794</td>\n",
              "      <td>-0.551600</td>\n",
              "      <td>-0.617801</td>\n",
              "      <td>-0.991390</td>\n",
              "      <td>-0.311169</td>\n",
              "      <td>1.468177</td>\n",
              "      <td>-0.470401</td>\n",
              "      <td>0.207971</td>\n",
              "      <td>0.025791</td>\n",
              "      <td>0.403993</td>\n",
              "      <td>0.251412</td>\n",
              "      <td>-0.018307</td>\n",
              "      <td>0.277838</td>\n",
              "      <td>-0.110474</td>\n",
              "      <td>0.066928</td>\n",
              "      <td>0.128539</td>\n",
              "      <td>-0.189115</td>\n",
              "      <td>0.133558</td>\n",
              "      <td>-0.021053</td>\n",
              "      <td>0.244964</td>\n",
              "      <td>-1.996583</td>\n",
              "    </tr>\n",
              "    <tr>\n",
              "      <th>1</th>\n",
              "      <td>1.191857</td>\n",
              "      <td>0.266151</td>\n",
              "      <td>0.166480</td>\n",
              "      <td>0.448154</td>\n",
              "      <td>0.060018</td>\n",
              "      <td>-0.082361</td>\n",
              "      <td>-0.078803</td>\n",
              "      <td>0.085102</td>\n",
              "      <td>-0.255425</td>\n",
              "      <td>-0.166974</td>\n",
              "      <td>1.612727</td>\n",
              "      <td>1.065235</td>\n",
              "      <td>0.489095</td>\n",
              "      <td>-0.143772</td>\n",
              "      <td>0.635558</td>\n",
              "      <td>0.463917</td>\n",
              "      <td>-0.114805</td>\n",
              "      <td>-0.183361</td>\n",
              "      <td>-0.145783</td>\n",
              "      <td>-0.069083</td>\n",
              "      <td>-0.225775</td>\n",
              "      <td>-0.638672</td>\n",
              "      <td>0.101288</td>\n",
              "      <td>-0.339846</td>\n",
              "      <td>0.167170</td>\n",
              "      <td>0.125895</td>\n",
              "      <td>-0.008983</td>\n",
              "      <td>0.014724</td>\n",
              "      <td>-0.342475</td>\n",
              "      <td>-1.996583</td>\n",
              "    </tr>\n",
              "    <tr>\n",
              "      <th>2</th>\n",
              "      <td>-1.358354</td>\n",
              "      <td>-1.340163</td>\n",
              "      <td>1.773209</td>\n",
              "      <td>0.379780</td>\n",
              "      <td>-0.503198</td>\n",
              "      <td>1.800499</td>\n",
              "      <td>0.791461</td>\n",
              "      <td>0.247676</td>\n",
              "      <td>-1.514654</td>\n",
              "      <td>0.207643</td>\n",
              "      <td>0.624501</td>\n",
              "      <td>0.066084</td>\n",
              "      <td>0.717293</td>\n",
              "      <td>-0.165946</td>\n",
              "      <td>2.345865</td>\n",
              "      <td>-2.890083</td>\n",
              "      <td>1.109969</td>\n",
              "      <td>-0.121359</td>\n",
              "      <td>-2.261857</td>\n",
              "      <td>0.524980</td>\n",
              "      <td>0.247998</td>\n",
              "      <td>0.771679</td>\n",
              "      <td>0.909412</td>\n",
              "      <td>-0.689281</td>\n",
              "      <td>-0.327642</td>\n",
              "      <td>-0.139097</td>\n",
              "      <td>-0.055353</td>\n",
              "      <td>-0.059752</td>\n",
              "      <td>1.160686</td>\n",
              "      <td>-1.996562</td>\n",
              "    </tr>\n",
              "    <tr>\n",
              "      <th>3</th>\n",
              "      <td>-0.966272</td>\n",
              "      <td>-0.185226</td>\n",
              "      <td>1.792993</td>\n",
              "      <td>-0.863291</td>\n",
              "      <td>-0.010309</td>\n",
              "      <td>1.247203</td>\n",
              "      <td>0.237609</td>\n",
              "      <td>0.377436</td>\n",
              "      <td>-1.387024</td>\n",
              "      <td>-0.054952</td>\n",
              "      <td>-0.226487</td>\n",
              "      <td>0.178228</td>\n",
              "      <td>0.507757</td>\n",
              "      <td>-0.287924</td>\n",
              "      <td>-0.631418</td>\n",
              "      <td>-1.059647</td>\n",
              "      <td>-0.684093</td>\n",
              "      <td>1.965775</td>\n",
              "      <td>-1.232622</td>\n",
              "      <td>-0.208038</td>\n",
              "      <td>-0.108300</td>\n",
              "      <td>0.005274</td>\n",
              "      <td>-0.190321</td>\n",
              "      <td>-1.175575</td>\n",
              "      <td>0.647376</td>\n",
              "      <td>-0.221929</td>\n",
              "      <td>0.062723</td>\n",
              "      <td>0.061458</td>\n",
              "      <td>0.140534</td>\n",
              "      <td>-1.996562</td>\n",
              "    </tr>\n",
              "    <tr>\n",
              "      <th>4</th>\n",
              "      <td>-1.158233</td>\n",
              "      <td>0.877737</td>\n",
              "      <td>1.548718</td>\n",
              "      <td>0.403034</td>\n",
              "      <td>-0.407193</td>\n",
              "      <td>0.095921</td>\n",
              "      <td>0.592941</td>\n",
              "      <td>-0.270533</td>\n",
              "      <td>0.817739</td>\n",
              "      <td>0.753074</td>\n",
              "      <td>-0.822843</td>\n",
              "      <td>0.538196</td>\n",
              "      <td>1.345852</td>\n",
              "      <td>-1.119670</td>\n",
              "      <td>0.175121</td>\n",
              "      <td>-0.451449</td>\n",
              "      <td>-0.237033</td>\n",
              "      <td>-0.038195</td>\n",
              "      <td>0.803487</td>\n",
              "      <td>0.408542</td>\n",
              "      <td>-0.009431</td>\n",
              "      <td>0.798278</td>\n",
              "      <td>-0.137458</td>\n",
              "      <td>0.141267</td>\n",
              "      <td>-0.206010</td>\n",
              "      <td>0.502292</td>\n",
              "      <td>0.219422</td>\n",
              "      <td>0.215153</td>\n",
              "      <td>-0.073403</td>\n",
              "      <td>-1.996541</td>\n",
              "    </tr>\n",
              "    <tr>\n",
              "      <th>...</th>\n",
              "      <td>...</td>\n",
              "      <td>...</td>\n",
              "      <td>...</td>\n",
              "      <td>...</td>\n",
              "      <td>...</td>\n",
              "      <td>...</td>\n",
              "      <td>...</td>\n",
              "      <td>...</td>\n",
              "      <td>...</td>\n",
              "      <td>...</td>\n",
              "      <td>...</td>\n",
              "      <td>...</td>\n",
              "      <td>...</td>\n",
              "      <td>...</td>\n",
              "      <td>...</td>\n",
              "      <td>...</td>\n",
              "      <td>...</td>\n",
              "      <td>...</td>\n",
              "      <td>...</td>\n",
              "      <td>...</td>\n",
              "      <td>...</td>\n",
              "      <td>...</td>\n",
              "      <td>...</td>\n",
              "      <td>...</td>\n",
              "      <td>...</td>\n",
              "      <td>...</td>\n",
              "      <td>...</td>\n",
              "      <td>...</td>\n",
              "      <td>...</td>\n",
              "      <td>...</td>\n",
              "    </tr>\n",
              "    <tr>\n",
              "      <th>284802</th>\n",
              "      <td>-11.881118</td>\n",
              "      <td>10.071785</td>\n",
              "      <td>-9.834783</td>\n",
              "      <td>-2.066656</td>\n",
              "      <td>-5.364473</td>\n",
              "      <td>-2.606837</td>\n",
              "      <td>-4.918215</td>\n",
              "      <td>7.305334</td>\n",
              "      <td>1.914428</td>\n",
              "      <td>4.356170</td>\n",
              "      <td>-1.593105</td>\n",
              "      <td>2.711941</td>\n",
              "      <td>-0.689256</td>\n",
              "      <td>4.626942</td>\n",
              "      <td>-0.924459</td>\n",
              "      <td>1.107641</td>\n",
              "      <td>1.991691</td>\n",
              "      <td>0.510632</td>\n",
              "      <td>-0.682920</td>\n",
              "      <td>1.475829</td>\n",
              "      <td>0.213454</td>\n",
              "      <td>0.111864</td>\n",
              "      <td>1.014480</td>\n",
              "      <td>-0.509348</td>\n",
              "      <td>1.436807</td>\n",
              "      <td>0.250034</td>\n",
              "      <td>0.943651</td>\n",
              "      <td>0.823731</td>\n",
              "      <td>-0.350151</td>\n",
              "      <td>1.641931</td>\n",
              "    </tr>\n",
              "    <tr>\n",
              "      <th>284803</th>\n",
              "      <td>-0.732789</td>\n",
              "      <td>-0.055080</td>\n",
              "      <td>2.035030</td>\n",
              "      <td>-0.738589</td>\n",
              "      <td>0.868229</td>\n",
              "      <td>1.058415</td>\n",
              "      <td>0.024330</td>\n",
              "      <td>0.294869</td>\n",
              "      <td>0.584800</td>\n",
              "      <td>-0.975926</td>\n",
              "      <td>-0.150189</td>\n",
              "      <td>0.915802</td>\n",
              "      <td>1.214756</td>\n",
              "      <td>-0.675143</td>\n",
              "      <td>1.164931</td>\n",
              "      <td>-0.711757</td>\n",
              "      <td>-0.025693</td>\n",
              "      <td>-1.221179</td>\n",
              "      <td>-1.545556</td>\n",
              "      <td>0.059616</td>\n",
              "      <td>0.214205</td>\n",
              "      <td>0.924384</td>\n",
              "      <td>0.012463</td>\n",
              "      <td>-1.016226</td>\n",
              "      <td>-0.606624</td>\n",
              "      <td>-0.395255</td>\n",
              "      <td>0.068472</td>\n",
              "      <td>-0.053527</td>\n",
              "      <td>-0.254117</td>\n",
              "      <td>1.641952</td>\n",
              "    </tr>\n",
              "    <tr>\n",
              "      <th>284804</th>\n",
              "      <td>1.919565</td>\n",
              "      <td>-0.301254</td>\n",
              "      <td>-3.249640</td>\n",
              "      <td>-0.557828</td>\n",
              "      <td>2.630515</td>\n",
              "      <td>3.031260</td>\n",
              "      <td>-0.296827</td>\n",
              "      <td>0.708417</td>\n",
              "      <td>0.432454</td>\n",
              "      <td>-0.484782</td>\n",
              "      <td>0.411614</td>\n",
              "      <td>0.063119</td>\n",
              "      <td>-0.183699</td>\n",
              "      <td>-0.510602</td>\n",
              "      <td>1.329284</td>\n",
              "      <td>0.140716</td>\n",
              "      <td>0.313502</td>\n",
              "      <td>0.395652</td>\n",
              "      <td>-0.577252</td>\n",
              "      <td>0.001396</td>\n",
              "      <td>0.232045</td>\n",
              "      <td>0.578229</td>\n",
              "      <td>-0.037501</td>\n",
              "      <td>0.640134</td>\n",
              "      <td>0.265745</td>\n",
              "      <td>-0.087371</td>\n",
              "      <td>0.004455</td>\n",
              "      <td>-0.026561</td>\n",
              "      <td>-0.081839</td>\n",
              "      <td>1.641974</td>\n",
              "    </tr>\n",
              "    <tr>\n",
              "      <th>284805</th>\n",
              "      <td>-0.240440</td>\n",
              "      <td>0.530483</td>\n",
              "      <td>0.702510</td>\n",
              "      <td>0.689799</td>\n",
              "      <td>-0.377961</td>\n",
              "      <td>0.623708</td>\n",
              "      <td>-0.686180</td>\n",
              "      <td>0.679145</td>\n",
              "      <td>0.392087</td>\n",
              "      <td>-0.399126</td>\n",
              "      <td>-1.933849</td>\n",
              "      <td>-0.962886</td>\n",
              "      <td>-1.042082</td>\n",
              "      <td>0.449624</td>\n",
              "      <td>1.962563</td>\n",
              "      <td>-0.608577</td>\n",
              "      <td>0.509928</td>\n",
              "      <td>1.113981</td>\n",
              "      <td>2.897849</td>\n",
              "      <td>0.127434</td>\n",
              "      <td>0.265245</td>\n",
              "      <td>0.800049</td>\n",
              "      <td>-0.163298</td>\n",
              "      <td>0.123205</td>\n",
              "      <td>-0.569159</td>\n",
              "      <td>0.546668</td>\n",
              "      <td>0.108821</td>\n",
              "      <td>0.104533</td>\n",
              "      <td>-0.313249</td>\n",
              "      <td>1.641974</td>\n",
              "    </tr>\n",
              "    <tr>\n",
              "      <th>284806</th>\n",
              "      <td>-0.533413</td>\n",
              "      <td>-0.189733</td>\n",
              "      <td>0.703337</td>\n",
              "      <td>-0.506271</td>\n",
              "      <td>-0.012546</td>\n",
              "      <td>-0.649617</td>\n",
              "      <td>1.577006</td>\n",
              "      <td>-0.414650</td>\n",
              "      <td>0.486180</td>\n",
              "      <td>-0.915427</td>\n",
              "      <td>-1.040458</td>\n",
              "      <td>-0.031513</td>\n",
              "      <td>-0.188093</td>\n",
              "      <td>-0.084316</td>\n",
              "      <td>0.041333</td>\n",
              "      <td>-0.302620</td>\n",
              "      <td>-0.660377</td>\n",
              "      <td>0.167430</td>\n",
              "      <td>-0.256117</td>\n",
              "      <td>0.382948</td>\n",
              "      <td>0.261057</td>\n",
              "      <td>0.643078</td>\n",
              "      <td>0.376777</td>\n",
              "      <td>0.008797</td>\n",
              "      <td>-0.473649</td>\n",
              "      <td>-0.818267</td>\n",
              "      <td>-0.002415</td>\n",
              "      <td>0.013649</td>\n",
              "      <td>0.514355</td>\n",
              "      <td>1.642058</td>\n",
              "    </tr>\n",
              "  </tbody>\n",
              "</table>\n",
              "<p>284807 rows × 30 columns</p>\n",
              "</div>"
            ],
            "text/plain": [
              "               V1         V2  ...  Normalized Amount  Normalized Time\n",
              "0       -1.359807  -0.072781  ...           0.244964        -1.996583\n",
              "1        1.191857   0.266151  ...          -0.342475        -1.996583\n",
              "2       -1.358354  -1.340163  ...           1.160686        -1.996562\n",
              "3       -0.966272  -0.185226  ...           0.140534        -1.996562\n",
              "4       -1.158233   0.877737  ...          -0.073403        -1.996541\n",
              "...           ...        ...  ...                ...              ...\n",
              "284802 -11.881118  10.071785  ...          -0.350151         1.641931\n",
              "284803  -0.732789  -0.055080  ...          -0.254117         1.641952\n",
              "284804   1.919565  -0.301254  ...          -0.081839         1.641974\n",
              "284805  -0.240440   0.530483  ...          -0.313249         1.641974\n",
              "284806  -0.533413  -0.189733  ...           0.514355         1.642058\n",
              "\n",
              "[284807 rows x 30 columns]"
            ]
          },
          "metadata": {
            "tags": []
          },
          "execution_count": 38
        }
      ]
    },
    {
      "cell_type": "code",
      "metadata": {
        "id": "u2YoobCM-Zpf",
        "colab_type": "code",
        "outputId": "215c7eb4-dfa4-48d5-d604-ff65cc1d6880",
        "colab": {
          "base_uri": "https://localhost:8080/",
          "height": 235
        }
      },
      "source": [
        "y"
      ],
      "execution_count": 0,
      "outputs": [
        {
          "output_type": "execute_result",
          "data": {
            "text/plain": [
              "0         0\n",
              "1         0\n",
              "2         0\n",
              "3         0\n",
              "4         0\n",
              "         ..\n",
              "284802    0\n",
              "284803    0\n",
              "284804    0\n",
              "284805    0\n",
              "284806    0\n",
              "Name: Class, Length: 284807, dtype: int64"
            ]
          },
          "metadata": {
            "tags": []
          },
          "execution_count": 39
        }
      ]
    },
    {
      "cell_type": "markdown",
      "metadata": {
        "id": "boE9z70tFkLY",
        "colab_type": "text"
      },
      "source": [
        "## Используемуе метрики, а так же функции обучения"
      ]
    },
    {
      "cell_type": "markdown",
      "metadata": {
        "id": "NOHH_-5QYcyz",
        "colab_type": "text"
      },
      "source": [
        "Для того, чтобы точно интерпретировать результаты обучения, простой точности недостаточно в дизбалансе классов. Поэтому будем использовать матрицу ошибок, а так же.\n",
        "Из метрик:\n",
        "\n",
        "1.   Матрица ошибок\n",
        "2.   precision (TP / (TP + FP)) \n",
        "3.   recall (TP / (TP + FN))\n",
        "4.   f1-score (F1 = 2 * (precision * recall) / (precision + recall))\n",
        "\n",
        "В основном будем смотреть на F1-score"
      ]
    },
    {
      "cell_type": "code",
      "metadata": {
        "id": "1OAehIj9GC4P",
        "colab_type": "code",
        "colab": {}
      },
      "source": [
        "from sklearn.metrics import confusion_matrix, ,classification_report \n",
        "from sklearn.model_selection import RandomizedSearchCV"
      ],
      "execution_count": 0,
      "outputs": []
    },
    {
      "cell_type": "code",
      "metadata": {
        "id": "-z2iemwYMJD_",
        "colab_type": "code",
        "colab": {}
      },
      "source": [
        "def train(x_train, y_train):\n",
        "  '''Поиск лучших параметров очень дорогозатратная по времени процедура.Так что была\n",
        "  запущена один раз.С изменением выборки это уже могут быть не лучшие параметрами.'''\n",
        "\n",
        "  log_reg_params = {\"penalty\": ['l1', 'l2'], 'C': [0.001, 0.01, 0.1, 1, 10, 100, 1000]}\n",
        "  knears_params = {\"n_neighbors\": list(range(2,4,1)), 'algorithm': ['auto', 'ball_tree', 'kd_tree', 'brute']}\n",
        "  tree_params = {\"criterion\": [\"gini\", \"entropy\"], \"max_depth\": list(range(4,8,2)),\"min_samples_leaf\": list(range(5,7,1))}\n",
        "\n",
        "  search_log = RandomizedSearchCV(LogisticRegression(n_jobs=-1, solver='liblinear') ,log_reg_params)\n",
        "  search_log.fit(x_train, y_train)\n",
        "\n",
        "  search_knn = RandomizedSearchCV(KNeighborsClassifier(n_jobs=-1, ) ,\n",
        "                                  knears_params)\n",
        "  search_knn.fit(x_train, y_train)\n",
        "\n",
        "  search_tree = RandomizedSearchCV(ensemble.RandomForestClassifier(n_estimators=100, \n",
        "                                                                   n_jobs=-1) ,tree_params)\n",
        "  search_tree.fit(x_train, y_train)\n",
        "  return search_log.best_estimator_, search_knn.best_estimator_, search_tree.best_estimator_\n",
        "\n",
        "def train_no_best(x_train, y_train):\n",
        "  log = LogisticRegression(C=100, class_weight=None,  n_jobs=-1, penalty='l1',\n",
        "                           solver='liblinear')\n",
        "  log.fit(x_train, y_train)\n",
        "\n",
        "  knn = KNeighborsClassifier(algorithm='kd_tree', n_jobs=-1, n_neighbors=3, \n",
        "                             weights='uniform')\n",
        "  knn.fit(x_train, y_train)\n",
        "\n",
        "  tree = ensemble.RandomForestClassifier(class_weight=None,criterion='entropy', \n",
        "                                         max_depth=6, n_estimators=100,n_jobs=-1, )\n",
        "  tree.fit(x_train, y_train)\n",
        "  return log, knn, tree\n",
        "\n",
        "def pred(log, knn, tree, x_test, y_test):\n",
        "  cm = []\n",
        "  predict = log.predict(x_test)\n",
        "  print('Logistic Regression \\n', metrics.classification_report(y_test, predict), \n",
        "        '____________________________')\n",
        "  cm.append((predict,y_test))\n",
        "\n",
        "  predict = knn.predict(x_test)\n",
        "  print('KN  Classifier \\n', metrics.classification_report(y_test, predict),\n",
        "  '____________________________')\n",
        "  cm.append((predict,y_test))\n",
        "\n",
        "  predict = tree.predict(x_test)\n",
        "  print('Random Forest Classifier \\n',metrics.classification_report(y_test, predict),\n",
        "  '____________________________')\n",
        "  cm.append((predict,y_test))\n",
        "\n",
        "  met(cm)\n",
        "  "
      ],
      "execution_count": 0,
      "outputs": []
    },
    {
      "cell_type": "code",
      "metadata": {
        "id": "Rj7tn4Am3wzq",
        "colab_type": "code",
        "colab": {}
      },
      "source": [
        "def plot_confusion_matrix(cm, classes,\n",
        "                          normalize=False,\n",
        "                          title='Confusion matrix',\n",
        "                          cmap=plt.cm.Blues):\n",
        "    \"\"\"\n",
        "    This function prints and plots the confusion matrix.\n",
        "    Normalization can be applied by setting `normalize=True`.\n",
        "    \"\"\"\n",
        "\n",
        "\n",
        "    plt.imshow(cm, interpolation='nearest', cmap=cmap)\n",
        "    plt.title(title, fontsize=14)\n",
        "    plt.colorbar()\n",
        "    tick_marks = np.arange(len(classes))\n",
        "    plt.xticks(tick_marks, classes, rotation=45)\n",
        "    plt.yticks(tick_marks, classes)\n",
        "\n",
        "    thresh = cm.max() / 2.\n",
        "    for i, j in itertools.product(range(cm.shape[0]), range(cm.shape[1])):\n",
        "        plt.text(j, i, format(cm[i, j]),\n",
        "                 horizontalalignment=\"center\",\n",
        "                 color=\"white\" if cm[i, j] > thresh else \"black\")\n",
        "\n",
        "    plt.tight_layout()\n",
        "    plt.ylabel('True label')\n",
        "    plt.xlabel('Predicted label')\n",
        "\n",
        "def met(cm):\n",
        "  fig = plt.figure(figsize=(12,8))\n",
        "\n",
        "  fig.add_subplot(231)\n",
        "  cnf_matrix = confusion_matrix(cm[0][0],cm[0][1])\n",
        "  plot_confusion_matrix(cnf_matrix, ['0','1'] ,title=\"Logistic Regression \\n Confusion Matrix\", cmap=plt.cm.Reds)\n",
        "\n",
        "  fig.add_subplot(232)\n",
        "  cnf_matrix = confusion_matrix(cm[1][0],cm[1][1])\n",
        "  plot_confusion_matrix(cnf_matrix, ['0','1'], title=\"KNeighbors Classifier \\n Confusion Matrix\", cmap=plt.cm.Greens )\n",
        "\n",
        "  fig.add_subplot(233)\n",
        "  cnf_matrix = confusion_matrix(cm[2][0],cm[2][1])\n",
        "  plot_confusion_matrix(cnf_matrix, ['0','1'], title=\"Random Forest Classifier \\n Confusion Matrix\", cmap=plt.cm.Blues )"
      ],
      "execution_count": 0,
      "outputs": []
    },
    {
      "cell_type": "markdown",
      "metadata": {
        "id": "UX9lX6PTMuFf",
        "colab_type": "text"
      },
      "source": [
        "## Обучаем без вмешательство в выборку"
      ]
    },
    {
      "cell_type": "code",
      "metadata": {
        "id": "NZcWW3ZHM6oV",
        "colab_type": "code",
        "colab": {}
      },
      "source": [
        "x_train, x_test, y_train, y_test = train_test_split(X, y, test_size=0.2, random_state=0, stratify=y)"
      ],
      "execution_count": 0,
      "outputs": []
    },
    {
      "cell_type": "code",
      "metadata": {
        "id": "p-oAhpMbYCZV",
        "colab_type": "code",
        "outputId": "8195f004-023b-4b43-cee1-d01704bbbe21",
        "colab": {
          "base_uri": "https://localhost:8080/",
          "height": 54
        }
      },
      "source": [
        "log, knn, tree = train_no_best(x_train, y_train)"
      ],
      "execution_count": 0,
      "outputs": [
        {
          "output_type": "stream",
          "text": [
            "/usr/local/lib/python3.6/dist-packages/sklearn/linear_model/_logistic.py:1539: UserWarning: 'n_jobs' > 1 does not have any effect when 'solver' is set to 'liblinear'. Got 'n_jobs' = 2.\n",
            "  \" = {}.\".format(effective_n_jobs(self.n_jobs)))\n"
          ],
          "name": "stderr"
        }
      ]
    },
    {
      "cell_type": "code",
      "metadata": {
        "id": "DGxxH4jduMmC",
        "colab_type": "code",
        "outputId": "69416d2e-2268-487d-a583-4471e5cf09df",
        "colab": {
          "base_uri": "https://localhost:8080/",
          "height": 848
        }
      },
      "source": [
        "pred(log, knn, tree, x_test, y_test)"
      ],
      "execution_count": 0,
      "outputs": [
        {
          "output_type": "stream",
          "text": [
            "Logistic Regression \n",
            "               precision    recall  f1-score   support\n",
            "\n",
            "           0       1.00      1.00      1.00     56864\n",
            "           1       0.85      0.64      0.73        98\n",
            "\n",
            "    accuracy                           1.00     56962\n",
            "   macro avg       0.93      0.82      0.87     56962\n",
            "weighted avg       1.00      1.00      1.00     56962\n",
            " ____________________________\n",
            "KN  Classifier \n",
            "               precision    recall  f1-score   support\n",
            "\n",
            "           0       1.00      1.00      1.00     56864\n",
            "           1       0.96      0.71      0.82        98\n",
            "\n",
            "    accuracy                           1.00     56962\n",
            "   macro avg       0.98      0.86      0.91     56962\n",
            "weighted avg       1.00      1.00      1.00     56962\n",
            " ____________________________\n",
            "Random Forest Classifier \n",
            "               precision    recall  f1-score   support\n",
            "\n",
            "           0       1.00      1.00      1.00     56864\n",
            "           1       0.95      0.70      0.81        98\n",
            "\n",
            "    accuracy                           1.00     56962\n",
            "   macro avg       0.97      0.85      0.90     56962\n",
            "weighted avg       1.00      1.00      1.00     56962\n",
            " ____________________________\n"
          ],
          "name": "stdout"
        },
        {
          "output_type": "display_data",
          "data": {
            "image/png": "[encoded data removed]",
            "text/plain": [
              "<Figure size 864x576 with 6 Axes>"
            ]
          },
          "metadata": {
            "tags": []
          }
        }
      ]
    },
    {
      "cell_type": "markdown",
      "metadata": {
        "id": "4my1PErQKbzC",
        "colab_type": "text"
      },
      "source": [
        "Как видим лучший результат до борьбы с дизбалансом - у KN f1-0.82"
      ]
    },
    {
      "cell_type": "markdown",
      "metadata": {
        "id": "a-14KNUAKkwJ",
        "colab_type": "text"
      },
      "source": [
        "## Вмешаемся"
      ]
    },
    {
      "cell_type": "markdown",
      "metadata": {
        "id": "bdGaVLAkafjH",
        "colab_type": "text"
      },
      "source": [
        "Какие мы можем себе позволить методы борьбы с дизбалансом классов?\n",
        "\n",
        "1.   Собрать еще данных.(не можем)\n",
        "2.   Продублировать данные меньшего класса\n",
        "3.   Урезать данные преобладающего класса\n",
        "4.   Штрафовать веса моделей при обучении на преобладающем классе\n",
        "\n"
      ]
    },
    {
      "cell_type": "markdown",
      "metadata": {
        "id": "7xP3qg3eLsQQ",
        "colab_type": "text"
      },
      "source": [
        "Для начала расширим меньший класс просто продублировав его"
      ]
    },
    {
      "cell_type": "code",
      "metadata": {
        "id": "ID9T_QY3s2ks",
        "colab_type": "code",
        "colab": {}
      },
      "source": [
        "high_to_add = x_train[y_train.values == 1].shape[0]\n",
        "size_to_add = np.sum(y_train == 0) - np.sum(y_train == 1) "
      ],
      "execution_count": 0,
      "outputs": []
    },
    {
      "cell_type": "code",
      "metadata": {
        "id": "Owenem7FttHZ",
        "colab_type": "code",
        "colab": {}
      },
      "source": [
        "np.random.seed(0)\n",
        "indices_to_add = np.random.randint(low=0, high=high_to_add, size = size_to_add)"
      ],
      "execution_count": 0,
      "outputs": []
    },
    {
      "cell_type": "code",
      "metadata": {
        "id": "7QYlN1CevrZz",
        "colab_type": "code",
        "colab": {}
      },
      "source": [
        "x_train = x_train.to_numpy()"
      ],
      "execution_count": 0,
      "outputs": []
    },
    {
      "cell_type": "code",
      "metadata": {
        "id": "iWGGl6mcuwO1",
        "colab_type": "code",
        "colab": {}
      },
      "source": [
        "X_train_to_add = x_train[y_train.values == 1][indices_to_add, :]"
      ],
      "execution_count": 0,
      "outputs": []
    },
    {
      "cell_type": "code",
      "metadata": {
        "id": "x90YktIZtNwB",
        "colab_type": "code",
        "colab": {}
      },
      "source": [
        "X_train_to_add = np.vstack((x_train, X_train_to_add))\n",
        "y_train_to_add = np.hstack((y_train,np.ones((size_to_add,))))"
      ],
      "execution_count": 0,
      "outputs": []
    },
    {
      "cell_type": "code",
      "metadata": {
        "id": "71UYTJfGK-Cr",
        "colab_type": "code",
        "outputId": "8f242a4c-f287-44eb-982e-b70721864248",
        "colab": {
          "base_uri": "https://localhost:8080/",
          "height": 72
        }
      },
      "source": [
        "print('Класс 0:',len(y_train_to_add[y_train_to_add == 0]))\n",
        "print('Класс 1:',len(y_train_to_add[y_train_to_add == 1]))\n",
        "print('Всего:', X_train_to_add.shape[0])"
      ],
      "execution_count": 0,
      "outputs": [
        {
          "output_type": "stream",
          "text": [
            "Класс 0: 227451\n",
            "Класс 1: 227451\n",
            "Всего: 454902\n"
          ],
          "name": "stdout"
        }
      ]
    },
    {
      "cell_type": "code",
      "metadata": {
        "id": "RMUwydOwL2SC",
        "colab_type": "code",
        "outputId": "1dc724eb-10e3-45ec-a7a3-81f0408a7590",
        "colab": {
          "base_uri": "https://localhost:8080/",
          "height": 54
        }
      },
      "source": [
        "log, knn, tree = train_no_best(X_train_to_add, y_train_to_add)"
      ],
      "execution_count": 0,
      "outputs": [
        {
          "output_type": "stream",
          "text": [
            "/usr/local/lib/python3.6/dist-packages/sklearn/linear_model/_logistic.py:1539: UserWarning: 'n_jobs' > 1 does not have any effect when 'solver' is set to 'liblinear'. Got 'n_jobs' = 2.\n",
            "  \" = {}.\".format(effective_n_jobs(self.n_jobs)))\n"
          ],
          "name": "stderr"
        }
      ]
    },
    {
      "cell_type": "code",
      "metadata": {
        "id": "F40FC6nCL7oS",
        "colab_type": "code",
        "outputId": "44990846-73bc-4daa-b00f-b363c873f814",
        "colab": {
          "base_uri": "https://localhost:8080/",
          "height": 848
        }
      },
      "source": [
        "pred(log, knn, tree, x_test, y_test)"
      ],
      "execution_count": 0,
      "outputs": [
        {
          "output_type": "stream",
          "text": [
            "Logistic Regression \n",
            "               precision    recall  f1-score   support\n",
            "\n",
            "           0       1.00      0.98      0.99     56864\n",
            "           1       0.06      0.88      0.12        98\n",
            "\n",
            "    accuracy                           0.98     56962\n",
            "   macro avg       0.53      0.93      0.55     56962\n",
            "weighted avg       1.00      0.98      0.99     56962\n",
            " ____________________________\n",
            "KN  Classifier \n",
            "               precision    recall  f1-score   support\n",
            "\n",
            "           0       1.00      1.00      1.00     56864\n",
            "           1       0.84      0.81      0.82        98\n",
            "\n",
            "    accuracy                           1.00     56962\n",
            "   macro avg       0.92      0.90      0.91     56962\n",
            "weighted avg       1.00      1.00      1.00     56962\n",
            " ____________________________\n",
            "Random Forest Classifier \n",
            "               precision    recall  f1-score   support\n",
            "\n",
            "           0       1.00      1.00      1.00     56864\n",
            "           1       0.49      0.84      0.61        98\n",
            "\n",
            "    accuracy                           1.00     56962\n",
            "   macro avg       0.74      0.92      0.81     56962\n",
            "weighted avg       1.00      1.00      1.00     56962\n",
            " ____________________________\n"
          ],
          "name": "stdout"
        },
        {
          "output_type": "display_data",
          "data": {
            "image/png": "[encoded data removed]",
            "text/plain": [
              "<Figure size 864x576 with 6 Axes>"
            ]
          },
          "metadata": {
            "tags": []
          }
        }
      ]
    },
    {
      "cell_type": "markdown",
      "metadata": {
        "id": "D_3wUwb8NaiK",
        "colab_type": "text"
      },
      "source": [
        "Хоть f1-score не улучшился, но нам удалось перехватить больше мошенических операций в KN при относительно малых потерях.Попробуем не просто добавить, а реализуем через imblearn методом SMOTE"
      ]
    },
    {
      "cell_type": "code",
      "metadata": {
        "id": "G-KAdAJRMJKg",
        "colab_type": "code",
        "outputId": "b47f51c8-e0b8-4516-d3d1-0f2fb60bebf4",
        "colab": {
          "base_uri": "https://localhost:8080/",
          "height": 235
        }
      },
      "source": [
        "pip install -U imbalanced-learn"
      ],
      "execution_count": 0,
      "outputs": [
        {
          "output_type": "stream",
          "text": [
            "Collecting imbalanced-learn\n",
            "\u001b[?25l  Downloading https://files.pythonhosted.org/packages/c8/73/36a13185c2acff44d601dc6107b5347e075561a49e15ddd4e69988414c3e/imbalanced_learn-0.6.2-py3-none-any.whl (163kB)\n",
            "\r\u001b[K     |██                              | 10kB 16.3MB/s eta 0:00:01\r\u001b[K     |████                            | 20kB 3.3MB/s eta 0:00:01\r\u001b[K     |██████                          | 30kB 4.3MB/s eta 0:00:01\r\u001b[K     |████████                        | 40kB 3.1MB/s eta 0:00:01\r\u001b[K     |██████████                      | 51kB 3.5MB/s eta 0:00:01\r\u001b[K     |████████████                    | 61kB 4.1MB/s eta 0:00:01\r\u001b[K     |██████████████                  | 71kB 4.4MB/s eta 0:00:01\r\u001b[K     |████████████████                | 81kB 4.5MB/s eta 0:00:01\r\u001b[K     |██████████████████              | 92kB 5.0MB/s eta 0:00:01\r\u001b[K     |████████████████████            | 102kB 5.0MB/s eta 0:00:01\r\u001b[K     |██████████████████████          | 112kB 5.0MB/s eta 0:00:01\r\u001b[K     |████████████████████████▏       | 122kB 5.0MB/s eta 0:00:01\r\u001b[K     |██████████████████████████▏     | 133kB 5.0MB/s eta 0:00:01\r\u001b[K     |████████████████████████████▏   | 143kB 5.0MB/s eta 0:00:01\r\u001b[K     |██████████████████████████████▏ | 153kB 5.0MB/s eta 0:00:01\r\u001b[K     |████████████████████████████████| 163kB 5.0MB/s \n",
            "\u001b[?25hRequirement already satisfied, skipping upgrade: numpy>=1.11 in /usr/local/lib/python3.6/dist-packages (from imbalanced-learn) (1.18.2)\n",
            "Requirement already satisfied, skipping upgrade: joblib>=0.11 in /usr/local/lib/python3.6/dist-packages (from imbalanced-learn) (0.14.1)\n",
            "Requirement already satisfied, skipping upgrade: scikit-learn>=0.22 in /usr/local/lib/python3.6/dist-packages (from imbalanced-learn) (0.22.2.post1)\n",
            "Requirement already satisfied, skipping upgrade: scipy>=0.17 in /usr/local/lib/python3.6/dist-packages (from imbalanced-learn) (1.4.1)\n",
            "Installing collected packages: imbalanced-learn\n",
            "  Found existing installation: imbalanced-learn 0.4.3\n",
            "    Uninstalling imbalanced-learn-0.4.3:\n",
            "      Successfully uninstalled imbalanced-learn-0.4.3\n",
            "Successfully installed imbalanced-learn-0.6.2\n"
          ],
          "name": "stdout"
        }
      ]
    },
    {
      "cell_type": "code",
      "metadata": {
        "id": "FLZ4IYcAM_d6",
        "colab_type": "code",
        "colab": {}
      },
      "source": [
        "from imblearn.over_sampling import SMOTE"
      ],
      "execution_count": 0,
      "outputs": []
    },
    {
      "cell_type": "code",
      "metadata": {
        "id": "a5Z6cAM5NGbZ",
        "colab_type": "code",
        "colab": {}
      },
      "source": [
        "sm = SMOTE()\n",
        "X_train_to_add, y_train_to_add = sm.fit_sample(x_train, y_train)"
      ],
      "execution_count": 0,
      "outputs": []
    },
    {
      "cell_type": "code",
      "metadata": {
        "id": "mJfYcpA4OTej",
        "colab_type": "code",
        "outputId": "c3c9a81d-d647-4183-ed73-a84c32146ed7",
        "colab": {
          "base_uri": "https://localhost:8080/",
          "height": 72
        }
      },
      "source": [
        "print('Класс 0:',len(y_train_to_add[y_train_to_add == 0]))\n",
        "print('Класс 1:',len(y_train_to_add[y_train_to_add == 1]))\n",
        "print('Всего:', X_train_to_add.shape[0])"
      ],
      "execution_count": 0,
      "outputs": [
        {
          "output_type": "stream",
          "text": [
            "Класс 0: 227451\n",
            "Класс 1: 227451\n",
            "Всего: 454902\n"
          ],
          "name": "stdout"
        }
      ]
    },
    {
      "cell_type": "code",
      "metadata": {
        "id": "Hh_LKXr6Oaso",
        "colab_type": "code",
        "outputId": "8116931f-3b94-4b18-8da1-c481ee1176c9",
        "colab": {
          "base_uri": "https://localhost:8080/",
          "height": 54
        }
      },
      "source": [
        "log, knn, tree = train_no_best(X_train_to_add, y_train_to_add)"
      ],
      "execution_count": 0,
      "outputs": [
        {
          "output_type": "stream",
          "text": [
            "/usr/local/lib/python3.6/dist-packages/sklearn/linear_model/_logistic.py:1539: UserWarning: 'n_jobs' > 1 does not have any effect when 'solver' is set to 'liblinear'. Got 'n_jobs' = 2.\n",
            "  \" = {}.\".format(effective_n_jobs(self.n_jobs)))\n"
          ],
          "name": "stderr"
        }
      ]
    },
    {
      "cell_type": "code",
      "metadata": {
        "id": "yJG2B7FQOdAp",
        "colab_type": "code",
        "outputId": "fa50a04f-7ef4-4756-e8a0-6369bcb1de05",
        "colab": {
          "base_uri": "https://localhost:8080/",
          "height": 848
        }
      },
      "source": [
        "pred(log, knn, tree, x_test, y_test)"
      ],
      "execution_count": 0,
      "outputs": [
        {
          "output_type": "stream",
          "text": [
            "Logistic Regression \n",
            "               precision    recall  f1-score   support\n",
            "\n",
            "           0       1.00      0.98      0.99     56864\n",
            "           1       0.06      0.89      0.11        98\n",
            "\n",
            "    accuracy                           0.98     56962\n",
            "   macro avg       0.53      0.93      0.55     56962\n",
            "weighted avg       1.00      0.98      0.99     56962\n",
            " ____________________________\n",
            "KN  Classifier \n",
            "               precision    recall  f1-score   support\n",
            "\n",
            "           0       1.00      1.00      1.00     56864\n",
            "           1       0.57      0.83      0.67        98\n",
            "\n",
            "    accuracy                           1.00     56962\n",
            "   macro avg       0.79      0.91      0.84     56962\n",
            "weighted avg       1.00      1.00      1.00     56962\n",
            " ____________________________\n",
            "Random Forest Classifier \n",
            "               precision    recall  f1-score   support\n",
            "\n",
            "           0       1.00      1.00      1.00     56864\n",
            "           1       0.40      0.85      0.54        98\n",
            "\n",
            "    accuracy                           1.00     56962\n",
            "   macro avg       0.70      0.92      0.77     56962\n",
            "weighted avg       1.00      1.00      1.00     56962\n",
            " ____________________________\n"
          ],
          "name": "stdout"
        },
        {
          "output_type": "display_data",
          "data": {
            "image/png": "[encoded data removed]",
            "text/plain": [
              "<Figure size 864x576 with 6 Axes>"
            ]
          },
          "metadata": {
            "tags": []
          }
        }
      ]
    },
    {
      "cell_type": "markdown",
      "metadata": {
        "id": "GnRdMOrcPu-Z",
        "colab_type": "text"
      },
      "source": [
        "Пока улучшений нет.Теперь попробуем уменьшить преобладающий класс."
      ]
    },
    {
      "cell_type": "code",
      "metadata": {
        "id": "n02XqpKTPBpo",
        "colab_type": "code",
        "colab": {}
      },
      "source": [
        "from imblearn.under_sampling import NearMiss"
      ],
      "execution_count": 0,
      "outputs": []
    },
    {
      "cell_type": "code",
      "metadata": {
        "id": "PnXtg6OKPYr7",
        "colab_type": "code",
        "colab": {}
      },
      "source": [
        "nm = NearMiss( )\n",
        "X_train_to_add, y_train_to_add = nm.fit_resample(x_train, y_train)"
      ],
      "execution_count": 0,
      "outputs": []
    },
    {
      "cell_type": "code",
      "metadata": {
        "id": "OtLKO9rGPubx",
        "colab_type": "code",
        "outputId": "0cbaa096-3489-4c85-f75e-9e8b5324b99a",
        "colab": {
          "base_uri": "https://localhost:8080/",
          "height": 72
        }
      },
      "source": [
        "print('Класс 0:',len(y_train_to_add[y_train_to_add == 0]))\n",
        "print('Класс 1:',len(y_train_to_add[y_train_to_add == 1]))\n",
        "print('Всего:', X_train_to_add.shape[0])"
      ],
      "execution_count": 0,
      "outputs": [
        {
          "output_type": "stream",
          "text": [
            "Класс 0: 394\n",
            "Класс 1: 394\n",
            "Всего: 788\n"
          ],
          "name": "stdout"
        }
      ]
    },
    {
      "cell_type": "code",
      "metadata": {
        "id": "ff3Ya1dSW9is",
        "colab_type": "code",
        "outputId": "4663303a-b8ff-4436-9564-be877919805a",
        "colab": {
          "base_uri": "https://localhost:8080/",
          "height": 54
        }
      },
      "source": [
        "log, knn, tree = train_no_best(X_train_to_add, y_train_to_add)"
      ],
      "execution_count": 0,
      "outputs": [
        {
          "output_type": "stream",
          "text": [
            "/usr/local/lib/python3.6/dist-packages/sklearn/linear_model/_logistic.py:1539: UserWarning: 'n_jobs' > 1 does not have any effect when 'solver' is set to 'liblinear'. Got 'n_jobs' = 2.\n",
            "  \" = {}.\".format(effective_n_jobs(self.n_jobs)))\n"
          ],
          "name": "stderr"
        }
      ]
    },
    {
      "cell_type": "code",
      "metadata": {
        "id": "XiFWNEkkW_hU",
        "colab_type": "code",
        "outputId": "1a83ef55-070a-4526-9fe2-c64fd836f4e3",
        "colab": {
          "base_uri": "https://localhost:8080/",
          "height": 848
        }
      },
      "source": [
        "pred(log, knn, tree, x_test, y_test)"
      ],
      "execution_count": 0,
      "outputs": [
        {
          "output_type": "stream",
          "text": [
            "Logistic Regression \n",
            "               precision    recall  f1-score   support\n",
            "\n",
            "           0       1.00      0.49      0.66     56864\n",
            "           1       0.00      0.90      0.01        98\n",
            "\n",
            "    accuracy                           0.49     56962\n",
            "   macro avg       0.50      0.70      0.33     56962\n",
            "weighted avg       1.00      0.49      0.66     56962\n",
            " ____________________________\n",
            "KN  Classifier \n",
            "               precision    recall  f1-score   support\n",
            "\n",
            "           0       1.00      0.64      0.78     56864\n",
            "           1       0.00      0.88      0.01        98\n",
            "\n",
            "    accuracy                           0.64     56962\n",
            "   macro avg       0.50      0.76      0.39     56962\n",
            "weighted avg       1.00      0.64      0.78     56962\n",
            " ____________________________\n",
            "Random Forest Classifier \n",
            "               precision    recall  f1-score   support\n",
            "\n",
            "           0       1.00      0.10      0.18     56864\n",
            "           1       0.00      0.96      0.00        98\n",
            "\n",
            "    accuracy                           0.10     56962\n",
            "   macro avg       0.50      0.53      0.09     56962\n",
            "weighted avg       1.00      0.10      0.18     56962\n",
            " ____________________________\n"
          ],
          "name": "stdout"
        },
        {
          "output_type": "display_data",
          "data": {
            "image/png": "[encoded data removed]",
            "text/plain": [
              "<Figure size 864x576 with 6 Axes>"
            ]
          },
          "metadata": {
            "tags": []
          }
        }
      ]
    },
    {
      "cell_type": "markdown",
      "metadata": {
        "id": "ICt686OvX6JC",
        "colab_type": "text"
      },
      "source": [
        "С таким небольшим классом было бы удивительно, если бы у нас что-то получилось.Попробуй еще один комбинированный метод "
      ]
    },
    {
      "cell_type": "code",
      "metadata": {
        "id": "uHdwuaM8Xmwb",
        "colab_type": "code",
        "colab": {}
      },
      "source": [
        "from imblearn.combine import SMOTETomek"
      ],
      "execution_count": 0,
      "outputs": []
    },
    {
      "cell_type": "code",
      "metadata": {
        "id": "ybCMc_SHXyC5",
        "colab_type": "code",
        "colab": {}
      },
      "source": [
        "st = SMOTETomek()\n",
        "X_train_to_add, y_train_to_add = st.fit_resample(x_train, y_train)"
      ],
      "execution_count": 0,
      "outputs": []
    },
    {
      "cell_type": "code",
      "metadata": {
        "id": "g__RNZq0X5EY",
        "colab_type": "code",
        "outputId": "42212386-c0e8-4661-bbe7-022e46fb93dd",
        "colab": {
          "base_uri": "https://localhost:8080/",
          "height": 72
        }
      },
      "source": [
        "print('Класс 0:',len(y_train_to_add[y_train_to_add == 0]))\n",
        "print('Класс 1:',len(y_train_to_add[y_train_to_add == 1]))\n",
        "print('Всего:', X_train_to_add.shape[0])"
      ],
      "execution_count": 0,
      "outputs": [
        {
          "output_type": "stream",
          "text": [
            "Класс 0: 227451\n",
            "Класс 1: 227451\n",
            "Всего: 454902\n"
          ],
          "name": "stdout"
        }
      ]
    },
    {
      "cell_type": "code",
      "metadata": {
        "id": "bm3XsNl6anFt",
        "colab_type": "code",
        "outputId": "8d8f3146-8c97-4362-8318-702ef7481072",
        "colab": {
          "base_uri": "https://localhost:8080/",
          "height": 885
        }
      },
      "source": [
        "log, knn, tree = train_no_best(X_train_to_add, y_train_to_add)\n",
        "pred(log, knn, tree, x_test, y_test)"
      ],
      "execution_count": 0,
      "outputs": [
        {
          "output_type": "stream",
          "text": [
            "/usr/local/lib/python3.6/dist-packages/sklearn/linear_model/_logistic.py:1539: UserWarning: 'n_jobs' > 1 does not have any effect when 'solver' is set to 'liblinear'. Got 'n_jobs' = 2.\n",
            "  \" = {}.\".format(effective_n_jobs(self.n_jobs)))\n"
          ],
          "name": "stderr"
        },
        {
          "output_type": "stream",
          "text": [
            "Logistic Regression \n",
            "               precision    recall  f1-score   support\n",
            "\n",
            "           0       1.00      0.98      0.99     56864\n",
            "           1       0.06      0.89      0.11        98\n",
            "\n",
            "    accuracy                           0.98     56962\n",
            "   macro avg       0.53      0.93      0.55     56962\n",
            "weighted avg       1.00      0.98      0.99     56962\n",
            " ____________________________\n",
            "KN  Classifier \n",
            "               precision    recall  f1-score   support\n",
            "\n",
            "           0       1.00      1.00      1.00     56864\n",
            "           1       0.57      0.83      0.67        98\n",
            "\n",
            "    accuracy                           1.00     56962\n",
            "   macro avg       0.79      0.91      0.84     56962\n",
            "weighted avg       1.00      1.00      1.00     56962\n",
            " ____________________________\n",
            "Random Forest Classifier \n",
            "               precision    recall  f1-score   support\n",
            "\n",
            "           0       1.00      1.00      1.00     56864\n",
            "           1       0.40      0.86      0.55        98\n",
            "\n",
            "    accuracy                           1.00     56962\n",
            "   macro avg       0.70      0.93      0.77     56962\n",
            "weighted avg       1.00      1.00      1.00     56962\n",
            " ____________________________\n"
          ],
          "name": "stdout"
        },
        {
          "output_type": "display_data",
          "data": {
            "image/png": "[encoded data removed]",
            "text/plain": [
              "<Figure size 864x576 with 6 Axes>"
            ]
          },
          "metadata": {
            "tags": []
          }
        }
      ]
    },
    {
      "cell_type": "markdown",
      "metadata": {
        "id": "zOXU1VfGYY4D",
        "colab_type": "text"
      },
      "source": [
        "Попробуем теперь штрафовать алгоритмы"
      ]
    },
    {
      "cell_type": "code",
      "metadata": {
        "id": "iNjYOGSxSd5U",
        "colab_type": "code",
        "outputId": "0d2ed168-6577-4b31-9555-b10e15d9d237",
        "colab": {
          "base_uri": "https://localhost:8080/",
          "height": 235
        }
      },
      "source": [
        "log = LogisticRegression(C=100, class_weight='balanced',  n_jobs=-1, penalty='l1',solver='liblinear')\n",
        "log.fit(x_train, y_train)\n",
        "knn = KNeighborsClassifier(algorithm='kd_tree', n_jobs=-1, n_neighbors=3,weights='distance')\n",
        "knn.fit(x_train, y_train)\n",
        "tree = ensemble.RandomForestClassifier(class_weight='balanced',criterion='entropy',max_depth=6, n_estimators=100,n_jobs=-1, )\n",
        "tree.fit(x_train, y_train)"
      ],
      "execution_count": 0,
      "outputs": [
        {
          "output_type": "stream",
          "text": [
            "/usr/local/lib/python3.6/dist-packages/sklearn/linear_model/_logistic.py:1539: UserWarning: 'n_jobs' > 1 does not have any effect when 'solver' is set to 'liblinear'. Got 'n_jobs' = 2.\n",
            "  \" = {}.\".format(effective_n_jobs(self.n_jobs)))\n",
            "/usr/local/lib/python3.6/dist-packages/sklearn/svm/_base.py:947: ConvergenceWarning: Liblinear failed to converge, increase the number of iterations.\n",
            "  \"the number of iterations.\", ConvergenceWarning)\n"
          ],
          "name": "stderr"
        },
        {
          "output_type": "execute_result",
          "data": {
            "text/plain": [
              "RandomForestClassifier(bootstrap=True, ccp_alpha=0.0, class_weight='balanced',\n",
              "                       criterion='entropy', max_depth=6, max_features='auto',\n",
              "                       max_leaf_nodes=None, max_samples=None,\n",
              "                       min_impurity_decrease=0.0, min_impurity_split=None,\n",
              "                       min_samples_leaf=1, min_samples_split=2,\n",
              "                       min_weight_fraction_leaf=0.0, n_estimators=100,\n",
              "                       n_jobs=-1, oob_score=False, random_state=None, verbose=0,\n",
              "                       warm_start=False)"
            ]
          },
          "metadata": {
            "tags": []
          },
          "execution_count": 93
        }
      ]
    },
    {
      "cell_type": "code",
      "metadata": {
        "id": "42TwMmAEdo0j",
        "colab_type": "code",
        "outputId": "e9b0f3e8-8bca-4d3b-b1f2-533e1783a533",
        "colab": {
          "base_uri": "https://localhost:8080/",
          "height": 848
        }
      },
      "source": [
        "pred(log, knn, tree, x_test, y_test)"
      ],
      "execution_count": 0,
      "outputs": [
        {
          "output_type": "stream",
          "text": [
            "Logistic Regression \n",
            "               precision    recall  f1-score   support\n",
            "\n",
            "           0       1.00      0.98      0.99     56864\n",
            "           1       0.07      0.88      0.12        98\n",
            "\n",
            "    accuracy                           0.98     56962\n",
            "   macro avg       0.53      0.93      0.56     56962\n",
            "weighted avg       1.00      0.98      0.99     56962\n",
            " ____________________________\n",
            "KN  Classifier \n",
            "               precision    recall  f1-score   support\n",
            "\n",
            "           0       1.00      1.00      1.00     56864\n",
            "           1       0.96      0.71      0.82        98\n",
            "\n",
            "    accuracy                           1.00     56962\n",
            "   macro avg       0.98      0.86      0.91     56962\n",
            "weighted avg       1.00      1.00      1.00     56962\n",
            " ____________________________\n",
            "Random Forest Classifier \n",
            "               precision    recall  f1-score   support\n",
            "\n",
            "           0       1.00      1.00      1.00     56864\n",
            "           1       0.66      0.82      0.73        98\n",
            "\n",
            "    accuracy                           1.00     56962\n",
            "   macro avg       0.83      0.91      0.87     56962\n",
            "weighted avg       1.00      1.00      1.00     56962\n",
            " ____________________________\n"
          ],
          "name": "stdout"
        },
        {
          "output_type": "display_data",
          "data": {
            "image/png": "[encoded data removed]",
            "text/plain": [
              "<Figure size 864x576 with 6 Axes>"
            ]
          },
          "metadata": {
            "tags": []
          }
        }
      ]
    },
    {
      "cell_type": "markdown",
      "metadata": {
        "id": "Z58wtQaif_qD",
        "colab_type": "text"
      },
      "source": [
        "Как можно посмотреть, приемлемый результат получился при расширении меньшего класса.И это далеко не предел.Можно попробовать другие алгоритмы, перебрать лучшие параметры для них.Но такой задачи не было :3. На данном этапе задачу с дизбалансом считаю выполненной"
      ]
    }
  ]
}